{
 "cells": [
  {
   "cell_type": "markdown",
   "metadata": {},
   "source": [
    "# Matrices\n",
    "\n",
    "### Learning Objectives:\n",
    "- [Matrix Introduction](#Matrix-Introduction)\n",
    "- [Matrix Addition & Subtraction](#Matrix-Addition-&-Subtraction)\n",
    "- [Matrix Transpose](#Matrix-Transpose)\n",
    "- [Matrix Multiplication](#Matrix-Multiplication)\n",
    "- [Identity Matrices](#Identity-Matrices)\n",
    "- [Diagonal Matrices](#Diagonal-Matrices)\n",
    "- [Linear Transformations](#Linear-Transformations)\n",
    "- [Determinant & Matrix Inverse](#Determinant-&-Matrix-Inverse)\n",
    "- [Orthogonal Matrices](#Orthogonal-Matrices)\n",
    "- [Eigenvalues & Eigenvectors](#Eigenvalues-&-Eigenvectors)\n",
    "\n",
    "\n",
    "# Matrix Introduction\n",
    "\n",
    "Now that we have covered vectors, we can expand this idea onto the concept of a __matrix__. Matrices are rectangular ordered arrays of numbers, symbols or expressions arranged in rows and columns. Its components are also referred to as __entries__. They are considered ordered as every entry position holds a different meaning. It is often useful to treat a matrix as a sequence of __column vectors__ or __row vectors__ given certain operations. In fact, given our definition, individual vectors can also be treated as matrices! For example, consider the three matrices below:\n",
    "\n",
    "$$ A = \\begin{bmatrix} 1 \\\\ 2  \\end{bmatrix} \\text{, }B = \\begin{bmatrix} 1 & 2 & 3\\\\ 3 & 2 & 1 \\end{bmatrix} \\text{, } C =\\begin{bmatrix} 1 & 2 \\\\ 2 & 3 \\\\ 3 & 4 \\end{bmatrix}$$\n",
    "\n",
    "We denote the dimensions of a matrix by first their number of rows, then their number of columns. In this case, A is a 2x1 matrix, B is a 2x3 matrix and C is a 3x2 matrix. The matrix A is also a column vector, and the matrix B can also be conceptualized as three 2-D column vectors or even two 3-D row vectors! If we let M,N be two integers, where M,N  > 1, and $a_{ij},i=1,...,M, j=1,...,N$ are $MN$ numbers, we can have the general representation of a matrix as follows:\n",
    "\n",
    "$$ A = \\begin{bmatrix} a_{11} & ... & a_{1j} & ... & a_{1N} \\\\\n",
    "                        \\vdots &    & \\vdots &     & \\vdots \\\\\n",
    "                        a_{i1} & ... & a_{ij} & ... & a_{iN} \\\\\n",
    "                        \\vdots &    & \\vdots &     & \\vdots \\\\\n",
    "                        a_{M1} & ... & a_{Mj} & ... & a_{MN} \n",
    "\\end{bmatrix}$$\n",
    "\n",
    "Matrices are a meaningful way of representing data. Generally, moving along rows holds a specific meaning, which is different from moving along columns. For example, let us say that we are gathering data on a population, and we collect height, weight and gender from each person in a sample of 8 people. A simple matrix representation of this data is such that moving along rows we move to a different feature, and moving along columns we move to a different person's data, as shown in the diagram below. We see that in this case, once again, how we can treat the matrix as a list of vectors, where each vector contains the weight, height and gender of one person.\n",
    "\n",
    "<img src=\"images/matrix.png\"\n",
    "     alt=\"matrix\"\n",
    "     width=\"500px\"\n",
    "     height=\"400px\"/>\n",
    "\n",
    "Another reason that makes matrices are useful is that they enable the automation of large operations. Rather than carrying out individual operations for different vectors or even elements, we can carry out an operation on an entire matrix. This is especially useful when we have to process large volumes of data.\n",
    "\n",
    "To represent matrices in standard Python, we can use __nested lists__, which are lists of lists. With NumPy, we can create multi-dimensional NumPy arrays. Using the _np.array(  )_ function, we can create a NumPy array with a nested list as an argument. Unlike with nested lists in standard Python, indexing of multi-dimensional NumPy arrays is different, as shown in the example below. This difference will be further elaborated upon in Chapter 3:"
   ]
  },
  {
   "cell_type": "code",
   "execution_count": 3,
   "metadata": {},
   "outputs": [
    {
     "output_type": "stream",
     "name": "stdout",
     "text": [
      "Standard Python:\n[[1, 2, 3], [3, 2, 1]] <class 'list'>\n3 2\n\nNumPy:\n[[1 2 3]\n [3 2 1]] <class 'numpy.ndarray'>\n3 2\n\n"
     ]
    }
   ],
   "source": [
    "import numpy as np\n",
    "\n",
    "# Standard Python\n",
    "B = [[1, 2, 3], [3, 2, 1]]\n",
    "print(\"Standard Python:\")\n",
    "print(B, type(B))\n",
    "print(B[0][2], B[1][1])\n",
    "print()\n",
    "\n",
    "# NumPy\n",
    "B = np.array(B)\n",
    "print(\"NumPy:\")\n",
    "print(B, type(B))\n",
    "print(B[0, 2], B[1, 1])\n",
    "print()"
   ]
  },
  {
   "cell_type": "markdown",
   "metadata": {},
   "source": [
    "# Matrix Addition & Subtraction\n",
    "Given the claim that a matrix can be treated as a list of vectors, the same intuition is applied for __matrix addition__ and __matrix subtraction__. Given that we have two matrices with an equal number of rows and columns, we simply add/subtract the elements in the same position from both matrices. Two examples are shown below:\n",
    "$$ \\text{(1)}\\begin{bmatrix} 1 & 2\\\\ 3 & 2 \\end{bmatrix} + \\begin{bmatrix} 3 & 1\\\\ 1 & 1 \\end{bmatrix} = \\begin{bmatrix} 4 & 3\\\\ 4 & 3 \\end{bmatrix}$$\n",
    "\n",
    "$$ \\text{(2)}\\begin{bmatrix} 4 & 2\\\\ 2 & 2 \\end{bmatrix} - \\begin{bmatrix} 3 & 1\\\\ 1 & 1 \\end{bmatrix} = \\begin{bmatrix} 1 & 1\\\\ 1 & 1 \\end{bmatrix}$$\n",
    "\n",
    "\n",
    "These operations are also shown below in NumPy:"
   ]
  },
  {
   "cell_type": "code",
   "execution_count": 2,
   "metadata": {},
   "outputs": [
    {
     "name": "stdout",
     "output_type": "stream",
     "text": [
      "NumPy:\n",
      "Addition: [[4 3]\n",
      " [4 3]]\n",
      "Subtraction: [[1 1]\n",
      " [1 1]]\n",
      "\n"
     ]
    }
   ],
   "source": [
    "# Defining our matrices \n",
    "A = np.array([[1,2],[3,2]])\n",
    "B = np.array([[3,1],[1,1]])\n",
    "C = np.array([[4,2],[2,2]])\n",
    "\n",
    "print(\"NumPy:\")\n",
    "print(\"Addition:\",A+B)\n",
    "print(\"Subtraction:\",C-B)\n",
    "print()"
   ]
  },
  {
   "cell_type": "markdown",
   "metadata": {},
   "source": [
    "# Matrix Transpose\n",
    "One of the simplest, yet one of the most useful matrix operations is the __matrix transpose__. For a matrix transpose, we simply turn its rows into columns, and columns into rows, which is equivalent to flipping it about its __main diagonal__ (top-left to bottom-right). In this case, an MxN matrix (M rows and N columns), becomes an NxM matrix. Some examples of a matrix transpose are shown below:\n",
    "$$A =\\begin{bmatrix} 1 & 2 \\\\ 2 & 3 \\\\ 3 & 4 \\end{bmatrix}, \\;\\;\\;\\;\\;\\;   A^{T} = A' = \n",
    "\\begin{bmatrix} 1 & 2 & 3 \\\\ 2 & 3 & 4 \\end{bmatrix}\n",
    "$$\n",
    "\n",
    "$$B =\\begin{bmatrix} 2 & 2 \\\\ 1 & 1 \\end{bmatrix}, \\;\\;\\;\\;\\;\\;   B^{T} = B' = \n",
    "\\begin{bmatrix} 2 & 1 \\\\ 2 & 1 \\end{bmatrix}\n",
    "$$\n",
    "\n",
    "We will expand on the importance of the matrix transpose once we investigate other operations. Below we show how to compute the matrix transpose in standard Python, as well NumPy, where we can either use the _np.transpose(  )_ function or _.T_ attribute:"
   ]
  },
  {
   "cell_type": "code",
   "execution_count": 8,
   "metadata": {},
   "outputs": [
    {
     "name": "stdout",
     "output_type": "stream",
     "text": [
      "Original\n",
      "A = [[1, 2], [2, 3], [3, 4]]\n",
      "B = [[2, 2], [1, 1]]\n",
      "\n",
      "Standard Python Transpose\n",
      "A' = [[1, 2, 3], [2, 3, 4]]\n",
      "B' = [[2, 1], [2, 1]]\n",
      "\n",
      "NumPy Transpose:\n",
      "A' = [[1 2 3]\n",
      " [2 3 4]]\n",
      "B' = [[2 1]\n",
      " [2 1]]\n"
     ]
    }
   ],
   "source": [
    "# Defining matrices\n",
    "A = [[1,2],[2,3],[3,4]]\n",
    "B = [[2,2],[1,1]]\n",
    "\n",
    "def transpose(mat):\n",
    "    mat_transpose = [] # initialise transposed matrix\n",
    "    for idx2 in range(len(mat[0])): # iterate through columns\n",
    "        new_row = []\n",
    "        for idx1 in range(len(mat)): # iterate through rows\n",
    "            new_row.append(mat[idx1][idx2])\n",
    "        mat_transpose.append(new_row)\n",
    "    return mat_transpose\n",
    "\n",
    "print(\"Original\")\n",
    "print(\"A =\", A)\n",
    "print(\"B =\", B)\n",
    "print()\n",
    "\n",
    "print(\"Standard Python Transpose\")\n",
    "print(\"A' =\", transpose(A))\n",
    "print(\"B' =\", transpose(B))\n",
    "print()\n",
    "\n",
    "A = np.array(A)\n",
    "B = np.array(B)\n",
    "\n",
    "print(\"NumPy Transpose:\")\n",
    "print(\"A' =\", A.T)\n",
    "print(\"B' =\", np.transpose(B))"
   ]
  },
  {
   "cell_type": "markdown",
   "metadata": {},
   "source": [
    "# Matrix Multiplication\n",
    "Just we have seen vector multiplication, we can also carry out __matrix multiplication__. In this operation, order is important, and the second matrix must have the same number of rows as the first matrix has columns. Given a MxN matrix A and a NxK matrix B, their __matrix product__, $C = A\\times B$, will be a MxK matrix. This means it will have as many rows as the first matrix, and as many columns as the second matrix. It is crucial to remember that __for matrix multiplication, the first matrix must have as many columns and the second matrix has rows__. Given the general definition of A and B below, their matrix product is given as follows:\n",
    "\n",
    "$$ A = \\begin{bmatrix} a_{11} & ... & a_{1j} & ... & a_{1N} \\\\\n",
    "                        \\vdots &    & \\vdots &     & \\vdots \\\\\n",
    "                        a_{i1} & ... & a_{ij} & ... & a_{iN}\\\\\n",
    "                        \\vdots &    & \\vdots &     & \\vdots \\\\\n",
    "                        a_{M1} & ... & a_{Mj} & ... & a_{MN} \n",
    "\\end{bmatrix}, \\;\n",
    "B = \\begin{bmatrix} b_{11} & ... & b_{1j} & ... & b_{1K} \\\\\n",
    "                        \\vdots &    & \\vdots &     & \\vdots \\\\\n",
    "                        b_{i1} & ... & b_{ij} & ... & b_{iK} \\\\\n",
    "                        \\vdots &    & \\vdots &     & \\vdots \\\\\n",
    "                        b_{N1} & ... & b_{Nj} & ... & b_{MK} \n",
    "\\end{bmatrix}$$\n",
    "\n",
    "$$ C = A\\times B = \\begin{bmatrix} c_{11} & ... & c_{1j} & ... & c_{1K} \\\\\n",
    "                        \\vdots &    & \\vdots &     & \\vdots \\\\\n",
    "                        c_{i1} & ... & c_{ij} & ... & c_{iK}\\\\\n",
    "                        \\vdots &    & \\vdots &     & \\vdots \\\\\n",
    "                        c_{M1} & ... & c_{Mj} & ... & c_{MK} \n",
    "\\end{bmatrix}$$\n",
    "\n",
    "Where:\n",
    "\n",
    "$$C_{ij} = \\sum_{k=1}^{N}a_{ik}b_{kj}$$\n",
    "\n",
    "This general definition can be difficult to understand, so to simplify this process, we will treat matrices as lists of column and row vectors. In this case, the entry of the matrix product, $c_{ij}$ is simply __the inner product of the__ $\\mathbf{i^{th}}$ __row of the first matrix, A, and the__ $\\mathbf{j^{th}}$ __column of the second matrix, B__. Two examples of the matrix product are shown below:\n",
    "\n",
    "$$ \\begin{bmatrix} 1 & 2 \\\\ 3 & 4  \\end{bmatrix} \\times \\begin{bmatrix} 5\\\\ 6 \\end{bmatrix} = \n",
    "\\begin{bmatrix} \n",
    "\\begin{bmatrix}1 & 2 \\end{bmatrix}\\cdot \\begin{bmatrix}5 \\\\ 6 \\end{bmatrix}\\\\\n",
    "\\begin{bmatrix}3 & 4 \\end{bmatrix}\\cdot \\begin{bmatrix}5 \\\\ 6 \\end{bmatrix}\n",
    "\\end{bmatrix} \n",
    "= \\begin{bmatrix} 5 \\\\ 4 \\end{bmatrix}$$ \n",
    "\n",
    "$$\\begin{bmatrix} 2 & 3 \\\\ 1 & 4 \\\\ 1 & 0 \\end{bmatrix} \\times \\begin{bmatrix} 1 & 0 \\\\ 2 & 1 \\end{bmatrix} = \n",
    "\\begin{bmatrix}\n",
    "\\begin{bmatrix} 2 & 3 \\end{bmatrix} \\cdot \\begin{bmatrix} 1 \\\\ 2 \\end{bmatrix} &\n",
    "\\begin{bmatrix} 2 & 3 \\end{bmatrix} \\cdot \\begin{bmatrix} 0 \\\\ 1 \\end{bmatrix} \\\\\n",
    "\\begin{bmatrix} 1 & 4 \\end{bmatrix} \\cdot \\begin{bmatrix} 1 \\\\ 2 \\end{bmatrix} & \n",
    "\\begin{bmatrix} 1 & 4 \\end{bmatrix} \\cdot \\begin{bmatrix} 0 \\\\ 1 \\end{bmatrix} \\\\\n",
    "\\begin{bmatrix} 1 & 0 \\end{bmatrix} \\cdot \\begin{bmatrix} 1 \\\\ 2 \\end{bmatrix} &\n",
    "\\begin{bmatrix} 1 & 0 \\end{bmatrix} \\cdot \\begin{bmatrix} 0 \\\\ 1 \\end{bmatrix}\n",
    "\\end{bmatrix} =\n",
    "\\begin{bmatrix} 8 & 3 \\\\ 9 & 4 \\\\ 1 & 0 \\end{bmatrix}\n",
    "$$\n",
    "\n",
    "As you have seen above, even with the help of the vector inner product, this is a time-consuming task to do by hand, and practically impossible for extremely large matrices. Given their ordered structure and the repetitive nature of this operation, we can write programs to compute matrix products. Below, we show how to compute the matrix product examples above in standard Python and in NumPy. Since in standard Python, there is no way to directly access a column of a nested list, we will borrow the previously written _transpose(  )_ function."
   ]
  },
  {
   "cell_type": "code",
   "execution_count": 9,
   "metadata": {},
   "outputs": [
    {
     "name": "stdout",
     "output_type": "stream",
     "text": [
      "Standard Python\n",
      "Product of A and B: [[5], [4]]\n",
      "Product of C and D: [[8, 3], [9, 4], [1, 0]]\n",
      "\n",
      "Standard Python\n",
      "Product of A and B: [[5]\n",
      " [4]]\n",
      "Product of C and D: [[8 3]\n",
      " [9 4]\n",
      " [1 0]]\n"
     ]
    }
   ],
   "source": [
    "# Defining matrices\n",
    "A = [[1, 2],[2, 1]]\n",
    "B = [[1], [2]]\n",
    "C = [[2, 3], [1, 4], [1, 0]]\n",
    "D = [[1, 0], [2, 1]]\n",
    "\n",
    "# Standard Python\n",
    "def inner_product(v1, v2): # function that computes algebraic inner product of two vectors\n",
    "    product = 0\n",
    "    for value1, value2 in zip(v1, v2):\n",
    "        product += value1*value2\n",
    "    return product\n",
    "\n",
    "def matrix_product(mat1, mat2): # function that computes the matrix product between two matrices\n",
    "    result = []\n",
    "    mat2 = transpose(mat2)\n",
    "    for i in range(len(mat1)): # iterate over rows of first matrix\n",
    "        new_row = []\n",
    "        for j in range(len(mat2)): # iterate columns of the second matrix\n",
    "            product = inner_product(mat1[i][:], mat2[j][:]) # inner product between row and column vectors\n",
    "            new_row.append(product)\n",
    "        result.append(new_row)\n",
    "    return result\n",
    "\n",
    "print(\"Standard Python\")\n",
    "print(\"Product of A and B:\", matrix_product(A, B))\n",
    "print(\"Product of C and D:\", matrix_product(C, D))\n",
    "print()\n",
    "\n",
    "\n",
    "# NumPy\n",
    "A = np.array(A)\n",
    "B = np.array(B)\n",
    "C = np.array(C)\n",
    "D = np.array(D)\n",
    "\n",
    "print(\"Standard Python\")\n",
    "print(\"Product of A and B:\", np.matmul(A, B))\n",
    "print(\"Product of C and D:\", np.matmul(C, D))"
   ]
  },
  {
   "cell_type": "markdown",
   "metadata": {},
   "source": [
    "# Identity Matrices\n",
    "Now that we have covered matrix multiplication, we can cover some interesting properties and types of matrices. A crucial type of matrix is known as an __identity matrix__. Identity matrices must be __square matrices__, meaning they have as many rows as it has columns. By definition, the matrix product of any square matrix and an identity matrix with the same number of rows and columns is itself. This property makes it a useful matrix when dealing with the matrix inverse, as well as eigenvalues and eigenvectors, which we will cover shortly. Identity matrices, denoted as __I__, have 1s on their main diagonal, and 0s elsewhere as shown below:\n",
    "\n",
    "$$ \\begin{bmatrix}1 & 0 \\\\ 0 & 1\\end{bmatrix}, \\; \\begin{bmatrix}1 & 0 & 0 \\\\ 0 & 1 & 0 \\\\0 & 0 & 1\\end{bmatrix}, \\;\n",
    "\\begin{bmatrix} 1 & 0 & ... & 0 \\\\\n",
    "                0 & 1 & ... & 0 \\\\\n",
    "                \\vdots &    & \\ddots &  \\\\\n",
    "                0 & 0 & ... & 1 \n",
    "\\end{bmatrix}\n",
    "$$\n",
    "\n",
    "$$A\\times I = I\\times A = A$$\n",
    "\n",
    "You can check out for yourself, and you will see that whatever square matrix you multiply with an identity matrix will give you the original matrix! Here we show how to generate an identity matrix in NumPy, along with proof that we get the original matrix when mutiplying with an identity matrix."
   ]
  },
  {
   "cell_type": "code",
   "execution_count": 12,
   "metadata": {},
   "outputs": [
    {
     "name": "stdout",
     "output_type": "stream",
     "text": [
      "Original Matrix: [[1 2]\n",
      " [2 1]]\n",
      "2x2 identity matrix: [[1. 0.]\n",
      " [0. 1.]]\n",
      "Matrix product: [[1. 2.]\n",
      " [2. 1.]]\n"
     ]
    }
   ],
   "source": [
    "# Defining our matrix\n",
    "A = np.array([[1, 2], [2, 1]])\n",
    "\n",
    "I = np.eye(2,2)\n",
    "print(\"Original Matrix:\", A)\n",
    "print(\"2x2 identity matrix:\", I)\n",
    "print(\"Matrix product:\", np.matmul(A, I))"
   ]
  },
  {
   "cell_type": "markdown",
   "metadata": {},
   "source": [
    "# Diagonal Matrices\n",
    "Another useful type of matrix is a __diagonal matrix__, where entries along the main diagonal are the only non-zero values. A general MxM is shown below:\n",
    "\n",
    "$$D = diag(a_{1}, a_{2}, ..., a_{M}) = \\begin{bmatrix} a_{1} & 0 & ... & 0 \\\\\n",
    "                      0 & a_{2} & ... & 0  \\\\\n",
    "                      \\vdots & \\vdots & \\ddots & \\vdots \\\\\n",
    "                       0 & 0 & ... & a_{M}\n",
    "\\end{bmatrix}$$\n",
    "Where $a_{i}, i=1,...,M$ are scalar numbers.\n",
    "\n",
    "Diagonal matrices have interesting properties:\n",
    "- matrix multiplication order does not matter with diagonal matrices\n",
    "- the transpose of a diagonal matrix is itself\n",
    "- it scales the value of each row of the matrix by the respective diagonal component in the diagonal matrix\n",
    "\n",
    "Some examples of matrix multiplication with diagonal matrices are shown below:\n",
    "$$\\begin{bmatrix}2 & 0 \\\\ 0 & 3\\end{bmatrix}\\times \\begin{bmatrix}1 & 1 \\\\ 1 & 1\\end{bmatrix} = \\begin{bmatrix}2 & 2 \\\\ 3 & 3\\end{bmatrix} $$\n",
    "\n",
    "$$\\begin{bmatrix}2 & 0 \\\\ 0 & 4\\end{bmatrix}\\times \\begin{bmatrix}1 & 2 & 3\\\\ 1 & 2 & 3\\end{bmatrix} = \\begin{bmatrix}2 & 4 & 6 \\\\ 4 & 8 & 12\\end{bmatrix} $$\n",
    "\n",
    "After understanding some of its properties, we can even treat an identity matrix as a diagonal matrix that scales each row by 1."
   ]
  },
  {
   "cell_type": "markdown",
   "metadata": {},
   "source": [
    "# Linear Transformations\n",
    "Another useful interpretation of matrices, is to treat them as __linear transformations__. This means that we can consider matrices to be something that when multiplied with one or multiple input vectors, we get one or multiple output vectors in the same vector space. For example, consider the matrix product below. We can see that by multiplying a vector with a matrix we get another vector, both which are displayed in the diagram below:\n",
    "\n",
    "$$ \\begin{bmatrix}1 & 2 \\\\ 3 & 1 \\end{bmatrix} \\times \\begin{bmatrix}1 \\\\ 1\\end{bmatrix} = \\begin{bmatrix}3 \\\\4\\end{bmatrix}$$"
   ]
  },
  {
   "cell_type": "code",
   "execution_count": 2,
   "metadata": {},
   "outputs": [
    {
     "data": {
      "application/vnd.plotly.v1+json": {
       "config": {
        "plotlyServerURL": "https://plot.ly"
       },
       "data": [
        {
         "marker": {
          "color": [
           "black",
           "black",
           "orange"
          ],
          "size": [
           10,
           30,
           30
          ]
         },
         "mode": "markers",
         "type": "scatter",
         "x": [
          0,
          1,
          3
         ],
         "y": [
          0,
          1,
          4
         ]
        },
        {
         "marker": {
          "color": "black"
         },
         "name": "Original Vector",
         "type": "scatter",
         "x": [
          0,
          1
         ],
         "y": [
          0,
          1
         ]
        },
        {
         "marker": {
          "color": "orange"
         },
         "name": "Transformed Vector",
         "type": "scatter",
         "x": [
          0,
          3
         ],
         "y": [
          0,
          4
         ]
        }
       ],
       "layout": {
        "showlegend": true,
        "template": {
         "data": {
          "bar": [
           {
            "error_x": {
             "color": "#2a3f5f"
            },
            "error_y": {
             "color": "#2a3f5f"
            },
            "marker": {
             "line": {
              "color": "#E5ECF6",
              "width": 0.5
             }
            },
            "type": "bar"
           }
          ],
          "barpolar": [
           {
            "marker": {
             "line": {
              "color": "#E5ECF6",
              "width": 0.5
             }
            },
            "type": "barpolar"
           }
          ],
          "carpet": [
           {
            "aaxis": {
             "endlinecolor": "#2a3f5f",
             "gridcolor": "white",
             "linecolor": "white",
             "minorgridcolor": "white",
             "startlinecolor": "#2a3f5f"
            },
            "baxis": {
             "endlinecolor": "#2a3f5f",
             "gridcolor": "white",
             "linecolor": "white",
             "minorgridcolor": "white",
             "startlinecolor": "#2a3f5f"
            },
            "type": "carpet"
           }
          ],
          "choropleth": [
           {
            "colorbar": {
             "outlinewidth": 0,
             "ticks": ""
            },
            "type": "choropleth"
           }
          ],
          "contour": [
           {
            "colorbar": {
             "outlinewidth": 0,
             "ticks": ""
            },
            "colorscale": [
             [
              0,
              "#0d0887"
             ],
             [
              0.1111111111111111,
              "#46039f"
             ],
             [
              0.2222222222222222,
              "#7201a8"
             ],
             [
              0.3333333333333333,
              "#9c179e"
             ],
             [
              0.4444444444444444,
              "#bd3786"
             ],
             [
              0.5555555555555556,
              "#d8576b"
             ],
             [
              0.6666666666666666,
              "#ed7953"
             ],
             [
              0.7777777777777778,
              "#fb9f3a"
             ],
             [
              0.8888888888888888,
              "#fdca26"
             ],
             [
              1,
              "#f0f921"
             ]
            ],
            "type": "contour"
           }
          ],
          "contourcarpet": [
           {
            "colorbar": {
             "outlinewidth": 0,
             "ticks": ""
            },
            "type": "contourcarpet"
           }
          ],
          "heatmap": [
           {
            "colorbar": {
             "outlinewidth": 0,
             "ticks": ""
            },
            "colorscale": [
             [
              0,
              "#0d0887"
             ],
             [
              0.1111111111111111,
              "#46039f"
             ],
             [
              0.2222222222222222,
              "#7201a8"
             ],
             [
              0.3333333333333333,
              "#9c179e"
             ],
             [
              0.4444444444444444,
              "#bd3786"
             ],
             [
              0.5555555555555556,
              "#d8576b"
             ],
             [
              0.6666666666666666,
              "#ed7953"
             ],
             [
              0.7777777777777778,
              "#fb9f3a"
             ],
             [
              0.8888888888888888,
              "#fdca26"
             ],
             [
              1,
              "#f0f921"
             ]
            ],
            "type": "heatmap"
           }
          ],
          "heatmapgl": [
           {
            "colorbar": {
             "outlinewidth": 0,
             "ticks": ""
            },
            "colorscale": [
             [
              0,
              "#0d0887"
             ],
             [
              0.1111111111111111,
              "#46039f"
             ],
             [
              0.2222222222222222,
              "#7201a8"
             ],
             [
              0.3333333333333333,
              "#9c179e"
             ],
             [
              0.4444444444444444,
              "#bd3786"
             ],
             [
              0.5555555555555556,
              "#d8576b"
             ],
             [
              0.6666666666666666,
              "#ed7953"
             ],
             [
              0.7777777777777778,
              "#fb9f3a"
             ],
             [
              0.8888888888888888,
              "#fdca26"
             ],
             [
              1,
              "#f0f921"
             ]
            ],
            "type": "heatmapgl"
           }
          ],
          "histogram": [
           {
            "marker": {
             "colorbar": {
              "outlinewidth": 0,
              "ticks": ""
             }
            },
            "type": "histogram"
           }
          ],
          "histogram2d": [
           {
            "colorbar": {
             "outlinewidth": 0,
             "ticks": ""
            },
            "colorscale": [
             [
              0,
              "#0d0887"
             ],
             [
              0.1111111111111111,
              "#46039f"
             ],
             [
              0.2222222222222222,
              "#7201a8"
             ],
             [
              0.3333333333333333,
              "#9c179e"
             ],
             [
              0.4444444444444444,
              "#bd3786"
             ],
             [
              0.5555555555555556,
              "#d8576b"
             ],
             [
              0.6666666666666666,
              "#ed7953"
             ],
             [
              0.7777777777777778,
              "#fb9f3a"
             ],
             [
              0.8888888888888888,
              "#fdca26"
             ],
             [
              1,
              "#f0f921"
             ]
            ],
            "type": "histogram2d"
           }
          ],
          "histogram2dcontour": [
           {
            "colorbar": {
             "outlinewidth": 0,
             "ticks": ""
            },
            "colorscale": [
             [
              0,
              "#0d0887"
             ],
             [
              0.1111111111111111,
              "#46039f"
             ],
             [
              0.2222222222222222,
              "#7201a8"
             ],
             [
              0.3333333333333333,
              "#9c179e"
             ],
             [
              0.4444444444444444,
              "#bd3786"
             ],
             [
              0.5555555555555556,
              "#d8576b"
             ],
             [
              0.6666666666666666,
              "#ed7953"
             ],
             [
              0.7777777777777778,
              "#fb9f3a"
             ],
             [
              0.8888888888888888,
              "#fdca26"
             ],
             [
              1,
              "#f0f921"
             ]
            ],
            "type": "histogram2dcontour"
           }
          ],
          "mesh3d": [
           {
            "colorbar": {
             "outlinewidth": 0,
             "ticks": ""
            },
            "type": "mesh3d"
           }
          ],
          "parcoords": [
           {
            "line": {
             "colorbar": {
              "outlinewidth": 0,
              "ticks": ""
             }
            },
            "type": "parcoords"
           }
          ],
          "pie": [
           {
            "automargin": true,
            "type": "pie"
           }
          ],
          "scatter": [
           {
            "marker": {
             "colorbar": {
              "outlinewidth": 0,
              "ticks": ""
             }
            },
            "type": "scatter"
           }
          ],
          "scatter3d": [
           {
            "line": {
             "colorbar": {
              "outlinewidth": 0,
              "ticks": ""
             }
            },
            "marker": {
             "colorbar": {
              "outlinewidth": 0,
              "ticks": ""
             }
            },
            "type": "scatter3d"
           }
          ],
          "scattercarpet": [
           {
            "marker": {
             "colorbar": {
              "outlinewidth": 0,
              "ticks": ""
             }
            },
            "type": "scattercarpet"
           }
          ],
          "scattergeo": [
           {
            "marker": {
             "colorbar": {
              "outlinewidth": 0,
              "ticks": ""
             }
            },
            "type": "scattergeo"
           }
          ],
          "scattergl": [
           {
            "marker": {
             "colorbar": {
              "outlinewidth": 0,
              "ticks": ""
             }
            },
            "type": "scattergl"
           }
          ],
          "scattermapbox": [
           {
            "marker": {
             "colorbar": {
              "outlinewidth": 0,
              "ticks": ""
             }
            },
            "type": "scattermapbox"
           }
          ],
          "scatterpolar": [
           {
            "marker": {
             "colorbar": {
              "outlinewidth": 0,
              "ticks": ""
             }
            },
            "type": "scatterpolar"
           }
          ],
          "scatterpolargl": [
           {
            "marker": {
             "colorbar": {
              "outlinewidth": 0,
              "ticks": ""
             }
            },
            "type": "scatterpolargl"
           }
          ],
          "scatterternary": [
           {
            "marker": {
             "colorbar": {
              "outlinewidth": 0,
              "ticks": ""
             }
            },
            "type": "scatterternary"
           }
          ],
          "surface": [
           {
            "colorbar": {
             "outlinewidth": 0,
             "ticks": ""
            },
            "colorscale": [
             [
              0,
              "#0d0887"
             ],
             [
              0.1111111111111111,
              "#46039f"
             ],
             [
              0.2222222222222222,
              "#7201a8"
             ],
             [
              0.3333333333333333,
              "#9c179e"
             ],
             [
              0.4444444444444444,
              "#bd3786"
             ],
             [
              0.5555555555555556,
              "#d8576b"
             ],
             [
              0.6666666666666666,
              "#ed7953"
             ],
             [
              0.7777777777777778,
              "#fb9f3a"
             ],
             [
              0.8888888888888888,
              "#fdca26"
             ],
             [
              1,
              "#f0f921"
             ]
            ],
            "type": "surface"
           }
          ],
          "table": [
           {
            "cells": {
             "fill": {
              "color": "#EBF0F8"
             },
             "line": {
              "color": "white"
             }
            },
            "header": {
             "fill": {
              "color": "#C8D4E3"
             },
             "line": {
              "color": "white"
             }
            },
            "type": "table"
           }
          ]
         },
         "layout": {
          "annotationdefaults": {
           "arrowcolor": "#2a3f5f",
           "arrowhead": 0,
           "arrowwidth": 1
          },
          "coloraxis": {
           "colorbar": {
            "outlinewidth": 0,
            "ticks": ""
           }
          },
          "colorscale": {
           "diverging": [
            [
             0,
             "#8e0152"
            ],
            [
             0.1,
             "#c51b7d"
            ],
            [
             0.2,
             "#de77ae"
            ],
            [
             0.3,
             "#f1b6da"
            ],
            [
             0.4,
             "#fde0ef"
            ],
            [
             0.5,
             "#f7f7f7"
            ],
            [
             0.6,
             "#e6f5d0"
            ],
            [
             0.7,
             "#b8e186"
            ],
            [
             0.8,
             "#7fbc41"
            ],
            [
             0.9,
             "#4d9221"
            ],
            [
             1,
             "#276419"
            ]
           ],
           "sequential": [
            [
             0,
             "#0d0887"
            ],
            [
             0.1111111111111111,
             "#46039f"
            ],
            [
             0.2222222222222222,
             "#7201a8"
            ],
            [
             0.3333333333333333,
             "#9c179e"
            ],
            [
             0.4444444444444444,
             "#bd3786"
            ],
            [
             0.5555555555555556,
             "#d8576b"
            ],
            [
             0.6666666666666666,
             "#ed7953"
            ],
            [
             0.7777777777777778,
             "#fb9f3a"
            ],
            [
             0.8888888888888888,
             "#fdca26"
            ],
            [
             1,
             "#f0f921"
            ]
           ],
           "sequentialminus": [
            [
             0,
             "#0d0887"
            ],
            [
             0.1111111111111111,
             "#46039f"
            ],
            [
             0.2222222222222222,
             "#7201a8"
            ],
            [
             0.3333333333333333,
             "#9c179e"
            ],
            [
             0.4444444444444444,
             "#bd3786"
            ],
            [
             0.5555555555555556,
             "#d8576b"
            ],
            [
             0.6666666666666666,
             "#ed7953"
            ],
            [
             0.7777777777777778,
             "#fb9f3a"
            ],
            [
             0.8888888888888888,
             "#fdca26"
            ],
            [
             1,
             "#f0f921"
            ]
           ]
          },
          "colorway": [
           "#636efa",
           "#EF553B",
           "#00cc96",
           "#ab63fa",
           "#FFA15A",
           "#19d3f3",
           "#FF6692",
           "#B6E880",
           "#FF97FF",
           "#FECB52"
          ],
          "font": {
           "color": "#2a3f5f"
          },
          "geo": {
           "bgcolor": "white",
           "lakecolor": "white",
           "landcolor": "#E5ECF6",
           "showlakes": true,
           "showland": true,
           "subunitcolor": "white"
          },
          "hoverlabel": {
           "align": "left"
          },
          "hovermode": "closest",
          "mapbox": {
           "style": "light"
          },
          "paper_bgcolor": "white",
          "plot_bgcolor": "#E5ECF6",
          "polar": {
           "angularaxis": {
            "gridcolor": "white",
            "linecolor": "white",
            "ticks": ""
           },
           "bgcolor": "#E5ECF6",
           "radialaxis": {
            "gridcolor": "white",
            "linecolor": "white",
            "ticks": ""
           }
          },
          "scene": {
           "xaxis": {
            "backgroundcolor": "#E5ECF6",
            "gridcolor": "white",
            "gridwidth": 2,
            "linecolor": "white",
            "showbackground": true,
            "ticks": "",
            "zerolinecolor": "white"
           },
           "yaxis": {
            "backgroundcolor": "#E5ECF6",
            "gridcolor": "white",
            "gridwidth": 2,
            "linecolor": "white",
            "showbackground": true,
            "ticks": "",
            "zerolinecolor": "white"
           },
           "zaxis": {
            "backgroundcolor": "#E5ECF6",
            "gridcolor": "white",
            "gridwidth": 2,
            "linecolor": "white",
            "showbackground": true,
            "ticks": "",
            "zerolinecolor": "white"
           }
          },
          "shapedefaults": {
           "line": {
            "color": "#2a3f5f"
           }
          },
          "ternary": {
           "aaxis": {
            "gridcolor": "white",
            "linecolor": "white",
            "ticks": ""
           },
           "baxis": {
            "gridcolor": "white",
            "linecolor": "white",
            "ticks": ""
           },
           "bgcolor": "#E5ECF6",
           "caxis": {
            "gridcolor": "white",
            "linecolor": "white",
            "ticks": ""
           }
          },
          "title": {
           "x": 0.05
          },
          "xaxis": {
           "automargin": true,
           "gridcolor": "white",
           "linecolor": "white",
           "ticks": "",
           "title": {
            "standoff": 15
           },
           "zerolinecolor": "white",
           "zerolinewidth": 2
          },
          "yaxis": {
           "automargin": true,
           "gridcolor": "white",
           "linecolor": "white",
           "ticks": "",
           "title": {
            "standoff": 15
           },
           "zerolinecolor": "white",
           "zerolinewidth": 2
          }
         }
        },
        "title": {
         "text": "Linear Transformation"
        },
        "xaxis": {
         "title": {
          "text": "$x_{1}$"
         }
        },
        "yaxis": {
         "title": {
          "text": "$x_{2}$"
         }
        }
       }
      },
      "text/html": [
       "<div>\n",
       "        \n",
       "        \n",
       "            <div id=\"debd6564-6668-4e48-8bec-a7aff0bfcd65\" class=\"plotly-graph-div\" style=\"height:525px; width:100%;\"></div>\n",
       "            <script type=\"text/javascript\">\n",
       "                require([\"plotly\"], function(Plotly) {\n",
       "                    window.PLOTLYENV=window.PLOTLYENV || {};\n",
       "                    \n",
       "                if (document.getElementById(\"debd6564-6668-4e48-8bec-a7aff0bfcd65\")) {\n",
       "                    Plotly.newPlot(\n",
       "                        'debd6564-6668-4e48-8bec-a7aff0bfcd65',\n",
       "                        [{\"marker\": {\"color\": [\"black\", \"black\", \"orange\"], \"size\": [10, 30, 30]}, \"mode\": \"markers\", \"type\": \"scatter\", \"x\": [0, 1, 3], \"y\": [0, 1, 4]}, {\"marker\": {\"color\": \"black\"}, \"name\": \"Original Vector\", \"type\": \"scatter\", \"x\": [0, 1], \"y\": [0, 1]}, {\"marker\": {\"color\": \"orange\"}, \"name\": \"Transformed Vector\", \"type\": \"scatter\", \"x\": [0, 3], \"y\": [0, 4]}],\n",
       "                        {\"showlegend\": true, \"template\": {\"data\": {\"bar\": [{\"error_x\": {\"color\": \"#2a3f5f\"}, \"error_y\": {\"color\": \"#2a3f5f\"}, \"marker\": {\"line\": {\"color\": \"#E5ECF6\", \"width\": 0.5}}, \"type\": \"bar\"}], \"barpolar\": [{\"marker\": {\"line\": {\"color\": \"#E5ECF6\", \"width\": 0.5}}, \"type\": \"barpolar\"}], \"carpet\": [{\"aaxis\": {\"endlinecolor\": \"#2a3f5f\", \"gridcolor\": \"white\", \"linecolor\": \"white\", \"minorgridcolor\": \"white\", \"startlinecolor\": \"#2a3f5f\"}, \"baxis\": {\"endlinecolor\": \"#2a3f5f\", \"gridcolor\": \"white\", \"linecolor\": \"white\", \"minorgridcolor\": \"white\", \"startlinecolor\": \"#2a3f5f\"}, \"type\": \"carpet\"}], \"choropleth\": [{\"colorbar\": {\"outlinewidth\": 0, \"ticks\": \"\"}, \"type\": \"choropleth\"}], \"contour\": [{\"colorbar\": {\"outlinewidth\": 0, \"ticks\": \"\"}, \"colorscale\": [[0.0, \"#0d0887\"], [0.1111111111111111, \"#46039f\"], [0.2222222222222222, \"#7201a8\"], [0.3333333333333333, \"#9c179e\"], [0.4444444444444444, \"#bd3786\"], [0.5555555555555556, \"#d8576b\"], [0.6666666666666666, \"#ed7953\"], [0.7777777777777778, \"#fb9f3a\"], [0.8888888888888888, \"#fdca26\"], [1.0, \"#f0f921\"]], \"type\": \"contour\"}], \"contourcarpet\": [{\"colorbar\": {\"outlinewidth\": 0, \"ticks\": \"\"}, \"type\": \"contourcarpet\"}], \"heatmap\": [{\"colorbar\": {\"outlinewidth\": 0, \"ticks\": \"\"}, \"colorscale\": [[0.0, \"#0d0887\"], [0.1111111111111111, \"#46039f\"], [0.2222222222222222, \"#7201a8\"], [0.3333333333333333, \"#9c179e\"], [0.4444444444444444, \"#bd3786\"], [0.5555555555555556, \"#d8576b\"], [0.6666666666666666, \"#ed7953\"], [0.7777777777777778, \"#fb9f3a\"], [0.8888888888888888, \"#fdca26\"], [1.0, \"#f0f921\"]], \"type\": \"heatmap\"}], \"heatmapgl\": [{\"colorbar\": {\"outlinewidth\": 0, \"ticks\": \"\"}, \"colorscale\": [[0.0, \"#0d0887\"], [0.1111111111111111, \"#46039f\"], [0.2222222222222222, \"#7201a8\"], [0.3333333333333333, \"#9c179e\"], [0.4444444444444444, \"#bd3786\"], [0.5555555555555556, \"#d8576b\"], [0.6666666666666666, \"#ed7953\"], [0.7777777777777778, \"#fb9f3a\"], [0.8888888888888888, \"#fdca26\"], [1.0, \"#f0f921\"]], \"type\": \"heatmapgl\"}], \"histogram\": [{\"marker\": {\"colorbar\": {\"outlinewidth\": 0, \"ticks\": \"\"}}, \"type\": \"histogram\"}], \"histogram2d\": [{\"colorbar\": {\"outlinewidth\": 0, \"ticks\": \"\"}, \"colorscale\": [[0.0, \"#0d0887\"], [0.1111111111111111, \"#46039f\"], [0.2222222222222222, \"#7201a8\"], [0.3333333333333333, \"#9c179e\"], [0.4444444444444444, \"#bd3786\"], [0.5555555555555556, \"#d8576b\"], [0.6666666666666666, \"#ed7953\"], [0.7777777777777778, \"#fb9f3a\"], [0.8888888888888888, \"#fdca26\"], [1.0, \"#f0f921\"]], \"type\": \"histogram2d\"}], \"histogram2dcontour\": [{\"colorbar\": {\"outlinewidth\": 0, \"ticks\": \"\"}, \"colorscale\": [[0.0, \"#0d0887\"], [0.1111111111111111, \"#46039f\"], [0.2222222222222222, \"#7201a8\"], [0.3333333333333333, \"#9c179e\"], [0.4444444444444444, \"#bd3786\"], [0.5555555555555556, \"#d8576b\"], [0.6666666666666666, \"#ed7953\"], [0.7777777777777778, \"#fb9f3a\"], [0.8888888888888888, \"#fdca26\"], [1.0, \"#f0f921\"]], \"type\": \"histogram2dcontour\"}], \"mesh3d\": [{\"colorbar\": {\"outlinewidth\": 0, \"ticks\": \"\"}, \"type\": \"mesh3d\"}], \"parcoords\": [{\"line\": {\"colorbar\": {\"outlinewidth\": 0, \"ticks\": \"\"}}, \"type\": \"parcoords\"}], \"pie\": [{\"automargin\": true, \"type\": \"pie\"}], \"scatter\": [{\"marker\": {\"colorbar\": {\"outlinewidth\": 0, \"ticks\": \"\"}}, \"type\": \"scatter\"}], \"scatter3d\": [{\"line\": {\"colorbar\": {\"outlinewidth\": 0, \"ticks\": \"\"}}, \"marker\": {\"colorbar\": {\"outlinewidth\": 0, \"ticks\": \"\"}}, \"type\": \"scatter3d\"}], \"scattercarpet\": [{\"marker\": {\"colorbar\": {\"outlinewidth\": 0, \"ticks\": \"\"}}, \"type\": \"scattercarpet\"}], \"scattergeo\": [{\"marker\": {\"colorbar\": {\"outlinewidth\": 0, \"ticks\": \"\"}}, \"type\": \"scattergeo\"}], \"scattergl\": [{\"marker\": {\"colorbar\": {\"outlinewidth\": 0, \"ticks\": \"\"}}, \"type\": \"scattergl\"}], \"scattermapbox\": [{\"marker\": {\"colorbar\": {\"outlinewidth\": 0, \"ticks\": \"\"}}, \"type\": \"scattermapbox\"}], \"scatterpolar\": [{\"marker\": {\"colorbar\": {\"outlinewidth\": 0, \"ticks\": \"\"}}, \"type\": \"scatterpolar\"}], \"scatterpolargl\": [{\"marker\": {\"colorbar\": {\"outlinewidth\": 0, \"ticks\": \"\"}}, \"type\": \"scatterpolargl\"}], \"scatterternary\": [{\"marker\": {\"colorbar\": {\"outlinewidth\": 0, \"ticks\": \"\"}}, \"type\": \"scatterternary\"}], \"surface\": [{\"colorbar\": {\"outlinewidth\": 0, \"ticks\": \"\"}, \"colorscale\": [[0.0, \"#0d0887\"], [0.1111111111111111, \"#46039f\"], [0.2222222222222222, \"#7201a8\"], [0.3333333333333333, \"#9c179e\"], [0.4444444444444444, \"#bd3786\"], [0.5555555555555556, \"#d8576b\"], [0.6666666666666666, \"#ed7953\"], [0.7777777777777778, \"#fb9f3a\"], [0.8888888888888888, \"#fdca26\"], [1.0, \"#f0f921\"]], \"type\": \"surface\"}], \"table\": [{\"cells\": {\"fill\": {\"color\": \"#EBF0F8\"}, \"line\": {\"color\": \"white\"}}, \"header\": {\"fill\": {\"color\": \"#C8D4E3\"}, \"line\": {\"color\": \"white\"}}, \"type\": \"table\"}]}, \"layout\": {\"annotationdefaults\": {\"arrowcolor\": \"#2a3f5f\", \"arrowhead\": 0, \"arrowwidth\": 1}, \"coloraxis\": {\"colorbar\": {\"outlinewidth\": 0, \"ticks\": \"\"}}, \"colorscale\": {\"diverging\": [[0, \"#8e0152\"], [0.1, \"#c51b7d\"], [0.2, \"#de77ae\"], [0.3, \"#f1b6da\"], [0.4, \"#fde0ef\"], [0.5, \"#f7f7f7\"], [0.6, \"#e6f5d0\"], [0.7, \"#b8e186\"], [0.8, \"#7fbc41\"], [0.9, \"#4d9221\"], [1, \"#276419\"]], \"sequential\": [[0.0, \"#0d0887\"], [0.1111111111111111, \"#46039f\"], [0.2222222222222222, \"#7201a8\"], [0.3333333333333333, \"#9c179e\"], [0.4444444444444444, \"#bd3786\"], [0.5555555555555556, \"#d8576b\"], [0.6666666666666666, \"#ed7953\"], [0.7777777777777778, \"#fb9f3a\"], [0.8888888888888888, \"#fdca26\"], [1.0, \"#f0f921\"]], \"sequentialminus\": [[0.0, \"#0d0887\"], [0.1111111111111111, \"#46039f\"], [0.2222222222222222, \"#7201a8\"], [0.3333333333333333, \"#9c179e\"], [0.4444444444444444, \"#bd3786\"], [0.5555555555555556, \"#d8576b\"], [0.6666666666666666, \"#ed7953\"], [0.7777777777777778, \"#fb9f3a\"], [0.8888888888888888, \"#fdca26\"], [1.0, \"#f0f921\"]]}, \"colorway\": [\"#636efa\", \"#EF553B\", \"#00cc96\", \"#ab63fa\", \"#FFA15A\", \"#19d3f3\", \"#FF6692\", \"#B6E880\", \"#FF97FF\", \"#FECB52\"], \"font\": {\"color\": \"#2a3f5f\"}, \"geo\": {\"bgcolor\": \"white\", \"lakecolor\": \"white\", \"landcolor\": \"#E5ECF6\", \"showlakes\": true, \"showland\": true, \"subunitcolor\": \"white\"}, \"hoverlabel\": {\"align\": \"left\"}, \"hovermode\": \"closest\", \"mapbox\": {\"style\": \"light\"}, \"paper_bgcolor\": \"white\", \"plot_bgcolor\": \"#E5ECF6\", \"polar\": {\"angularaxis\": {\"gridcolor\": \"white\", \"linecolor\": \"white\", \"ticks\": \"\"}, \"bgcolor\": \"#E5ECF6\", \"radialaxis\": {\"gridcolor\": \"white\", \"linecolor\": \"white\", \"ticks\": \"\"}}, \"scene\": {\"xaxis\": {\"backgroundcolor\": \"#E5ECF6\", \"gridcolor\": \"white\", \"gridwidth\": 2, \"linecolor\": \"white\", \"showbackground\": true, \"ticks\": \"\", \"zerolinecolor\": \"white\"}, \"yaxis\": {\"backgroundcolor\": \"#E5ECF6\", \"gridcolor\": \"white\", \"gridwidth\": 2, \"linecolor\": \"white\", \"showbackground\": true, \"ticks\": \"\", \"zerolinecolor\": \"white\"}, \"zaxis\": {\"backgroundcolor\": \"#E5ECF6\", \"gridcolor\": \"white\", \"gridwidth\": 2, \"linecolor\": \"white\", \"showbackground\": true, \"ticks\": \"\", \"zerolinecolor\": \"white\"}}, \"shapedefaults\": {\"line\": {\"color\": \"#2a3f5f\"}}, \"ternary\": {\"aaxis\": {\"gridcolor\": \"white\", \"linecolor\": \"white\", \"ticks\": \"\"}, \"baxis\": {\"gridcolor\": \"white\", \"linecolor\": \"white\", \"ticks\": \"\"}, \"bgcolor\": \"#E5ECF6\", \"caxis\": {\"gridcolor\": \"white\", \"linecolor\": \"white\", \"ticks\": \"\"}}, \"title\": {\"x\": 0.05}, \"xaxis\": {\"automargin\": true, \"gridcolor\": \"white\", \"linecolor\": \"white\", \"ticks\": \"\", \"title\": {\"standoff\": 15}, \"zerolinecolor\": \"white\", \"zerolinewidth\": 2}, \"yaxis\": {\"automargin\": true, \"gridcolor\": \"white\", \"linecolor\": \"white\", \"ticks\": \"\", \"title\": {\"standoff\": 15}, \"zerolinecolor\": \"white\", \"zerolinewidth\": 2}}}, \"title\": {\"text\": \"Linear Transformation\"}, \"xaxis\": {\"title\": {\"text\": \"$x_{1}$\"}}, \"yaxis\": {\"title\": {\"text\": \"$x_{2}$\"}}},\n",
       "                        {\"responsive\": true}\n",
       "                    ).then(function(){\n",
       "                            \n",
       "var gd = document.getElementById('debd6564-6668-4e48-8bec-a7aff0bfcd65');\n",
       "var x = new MutationObserver(function (mutations, observer) {{\n",
       "        var display = window.getComputedStyle(gd).display;\n",
       "        if (!display || display === 'none') {{\n",
       "            console.log([gd, 'removed!']);\n",
       "            Plotly.purge(gd);\n",
       "            observer.disconnect();\n",
       "        }}\n",
       "}});\n",
       "\n",
       "// Listen for the removal of the full notebook cells\n",
       "var notebookContainer = gd.closest('#notebook-container');\n",
       "if (notebookContainer) {{\n",
       "    x.observe(notebookContainer, {childList: true});\n",
       "}}\n",
       "\n",
       "// Listen for the clearing of the current output cell\n",
       "var outputEl = gd.closest('.output');\n",
       "if (outputEl) {{\n",
       "    x.observe(outputEl, {childList: true});\n",
       "}}\n",
       "\n",
       "                        })\n",
       "                };\n",
       "                });\n",
       "            </script>\n",
       "        </div>"
      ]
     },
     "metadata": {},
     "output_type": "display_data"
    }
   ],
   "source": [
    "# Visualization Code\n",
    "\n",
    "import plotly.graph_objects as go\n",
    "\n",
    "x1 = [0, 1, 3]\n",
    "x2 = [0, 1, 4]\n",
    "\n",
    "\n",
    "fig = go.Figure(data=[go.Scatter(\n",
    "    x=x1, y=x2,\n",
    "    mode='markers',\n",
    "    marker=dict(size=[10, 30, 30],\n",
    "            color=[\"black\",\"black\", \"orange\"])\n",
    "    )])\n",
    "\n",
    "fig.update_layout(\n",
    "    title=\"Linear Transformation\",\n",
    "    xaxis_title=\"$x_{1}$\",\n",
    "    yaxis_title=\"$x_{2}$\",\n",
    ")\n",
    "fig.add_trace(go.Scatter(x=[0, 1], y=[0, 1],marker_color=\"black\", name=\"Original Vector\"))\n",
    "fig.add_trace(go.Scatter(x=[0, 3], y=[0, 4],marker_color=\"orange\", name=\"Transformed Vector\"))\n",
    "fig.update_layout(showlegend=True)\n",
    "fig.show()"
   ]
  },
  {
   "cell_type": "markdown",
   "metadata": {},
   "source": [
    "Linear transformations can affect an input vector by changing its length and/or its direction. Some linear transformations _only_ change the length of any vector, whereas others _only_ change the direction of any vector. However, for every linear transformation, there are some special vectors that are only scaled by this linear transformation.\n",
    "\n",
    "We will see later that this geometric understanding of matrices will help when dealing eigenvalues and eigenvectors. For the scope of this course, just think of linear transformations as matrices that take an input vector and return an output vector in the same space."
   ]
  },
  {
   "cell_type": "markdown",
   "metadata": {},
   "source": [
    "# Determinant & Matrix Inverse\n",
    "A __determinant__ is a function of a square matrix that reduces it to a single number. The determinant of a matrix A is denoted |A| or det(A). If A consists of one element a, then |A| = a. For a 2x2 matrix it is given by:\n",
    "\n",
    "$$A = \\begin{bmatrix}a & b \\\\ c & d\\end{bmatrix}, \\; det(A) = \\begin{vmatrix}a & b \\\\ c & d\\end{vmatrix} = ad-bc$$\n",
    "\n",
    "Finding the determinant of an NxN square matrix for N > 2 can be done by recursively deleting rows and columns to create successively smaller matrices until they are all 2 × 2 dimensions, and then applying the 2x2 definition above. The most basic technique is __expansion by row__, which we show here for a 3 × 3 matrix:\n",
    "\n",
    "$$A = \\begin{bmatrix}a & b & c \\\\ d & e & f \\\\ g & h & i\\end{bmatrix} \\; det(A) = a\\begin{vmatrix} e & f \\\\ h & i\\end{vmatrix} - b\\begin{vmatrix} d & f \\\\ g & i\\end{vmatrix} + c\\begin{vmatrix} d & e \\\\ g & h\\end{vmatrix}$$\n",
    "\n",
    "<img src=\"images/determinant.png\"\n",
    "     alt=\"matrix\"\n",
    "     width=\"500px\"\n",
    "     height=\"400px\"/>\n",
    "\n",
    "In this case we are expanding by row 1, which means deleting row 1 by successively deleting columns 1, column 2, and column 3 to create three 2×2 matrices. The determinant of each smaller matrix is multiplied by the entry corresponding to the intersection of the deleted row and column. The expansion alternately adds and subtracts each successive determinant.\n",
    "\n",
    "\n",
    "We will generally use a computer for these calculations, especially for higher dimensions. So why do we need the determinant? Well, it is a useful tool in determining whether a square matrix has an __inverse__, and if it does, is also used in computing the matrix inverse.\n",
    "\n",
    "If we have a square matrix, A, its inverse, $\\mathbf{A^{-1}}$, is defined such that:\n",
    "$$ A\\times A^{-1} = A^{-1} \\times A = I $$\n",
    "\n",
    "The inverse of a square matrix is a matrix of the same dimension that when multiplied with the original matrix, returns the identity matrix, as shown above. Hence, we see the importance of identity matrices! In terms of linear transformations, it is the opposite transformation: it takes an ouput vector(s) and returns your input vector(s). However, not all square matrices have an inverse. Matrices that have no inverse are known as __singular matrices__, and have a determinant equal to 0. Thus, to determine whether a square matrix has an inverse, we simply compute its determinant! Some examples of this concept are shown below:\n",
    "$$A = \\begin{bmatrix}1 & 0 \\\\ 0 & 2\\end{bmatrix}, \\; det(A) = 2, \\; A^{-1} = \\begin{bmatrix}1 & 0 \\\\ 0 & \\frac{1}{2}\\end{bmatrix}, \\; A \\times A^{-1} = I$$\n",
    "\n",
    "$$B = \\begin{bmatrix}1 & 2 \\\\ 2 & 4\\end{bmatrix}, \\; det(B) = 0,\\; \\text{(singular, no inverse)} $$\n",
    "\n",
    "In general, we compute matrix determinants and inverses with different programs rather than by hand due to their complexity. Below, we show how to compute determinants and inverses with NumPy."
   ]
  },
  {
   "cell_type": "code",
   "execution_count": 7,
   "metadata": {},
   "outputs": [
    {
     "name": "stdout",
     "output_type": "stream",
     "text": [
      "Case 1:\n",
      "det(A) = 2.0\n",
      "Inverse of A: [[1.  0. ]\n",
      " [0.  0.5]]\n",
      "Matrix product: [[1. 0.]\n",
      " [0. 1.]]\n",
      "\n",
      "Case 2:\n",
      "det(B) = 0.0\n",
      "Inverse of B: inverse not existent\n"
     ]
    }
   ],
   "source": [
    "# Defining our matrices\n",
    "A = np.array([[1,0],[0,2]])\n",
    "B = np.array([[1,2],[2,4]])\n",
    "\n",
    "\n",
    "# Case 1: An inverse exists!\n",
    "A_det = np.linalg.det(A)\n",
    "A_inv = np.linalg.inv(A)\n",
    "product = np.matmul(A,A_inv)\n",
    "print(\"Case 1:\")\n",
    "print(\"det(A) =\",A_det)\n",
    "print(\"Inverse of A:\",A_inv)\n",
    "print(\"Matrix product:\",product)\n",
    "print()\n",
    "\n",
    "\n",
    "# Case 2: Singular matrix, inverse does NOT exist\n",
    "B_det = np.linalg.det(B)\n",
    "try:\n",
    "    B_inv = np.linalg.inv(B) # checking to see if Python finds an error\n",
    "except:\n",
    "    B_inv = \"inverse not existent\"\n",
    "\n",
    "print(\"Case 2:\")\n",
    "print(\"det(B) =\",B_det)\n",
    "print(\"Inverse of B:\",B_inv)"
   ]
  },
  {
   "cell_type": "markdown",
   "metadata": {},
   "source": [
    "# Orthogonal Matrices\n",
    "Another type of matrix is an __orthogonal matrix__. Orthogonal matrices have the interesting product that their transpose is also their matrix inverse! In formal terms, given an orthogonal matrix A:\n",
    "\n",
    "$$ A \\times A^{T} = A^{T} \\times A = I \\implies A^{T} = A^{-1}$$\n",
    "\n",
    "This is yet another example of why it is useful to visualize matrices as composed of column/row vectors. In this case, a matrix is orthogonal if its columns and rows are orthogonal unit vectors (orthonormal). This means that the inner product of its rows with its columns will yield 1 if it's the same vector, and zero otherwise. Thus, to check if a matrix is orthogonal, we simply have to prove that the inner product of different columns is 0 and their lengths are equal to 1. An example of an orthogonal matrix is shown below.\n",
    "\n",
    "$$A = \\begin{bmatrix}\\frac{1}{\\sqrt{2}} & \\frac{1}{\\sqrt{2}} \\\\ -\\frac{1}{\\sqrt{2}} & \\frac{1}{\\sqrt{2}}\\end{bmatrix} = \\begin{bmatrix} \\mathbf{v_{1}} & \\mathbf{v_{2}} \\end{bmatrix}, \\;\\; ||\\mathbf{v_{1}}|| = 1, ||\\mathbf{v_{2}}|| = 1,  \\mathbf{v_{1}} \\cdot \\mathbf{v_{2}} = 0 \\implies \\text{orthogonal} $$\n",
    "\n",
    "$$A \\times A^{T} = \n",
    "\\begin{bmatrix}\\frac{1}{\\sqrt{2}} & \\frac{1}{\\sqrt{2}} \\\\ -\\frac{1}{\\sqrt{2}} & \\frac{1}{\\sqrt{2}}\\end{bmatrix} \n",
    "\\times\n",
    "\\begin{bmatrix}\\frac{1}{\\sqrt{2}} & -\\frac{1}{\\sqrt{2}} \\\\ \\frac{1}{\\sqrt{2}} & \\frac{1}{\\sqrt{2}}\\end{bmatrix} \n",
    " = \\begin{bmatrix}1 & 0 \\\\ 0 & 1 \\end{bmatrix} = I$$\n",
    " \n",
    "Computing the inverse of a matrix is generally a complex process, which means that exploiting matrix orthogonality allows us to simplify manual calculations and reduce computational complexity."
   ]
  },
  {
   "cell_type": "markdown",
   "metadata": {},
   "source": [
    "# Eigenvalues & Eigenvectors\n",
    "We will now put together all we have covered together to understand one of the most important concepts in linear algebra: __eigenvalues__ and __eigenvectors__. Given a square matrix, A, its eigenvector(s), denoted by $\\vec{\\mathbf{v_{i}}}$ is/are vector(s) such that:\n",
    "\n",
    "$$A\\vec{\\mathbf{v_{i}}} = \\lambda_{i}\\vec{\\mathbf{v_{i}}}$$\n",
    "\n",
    "Where $\\lambda_{i}$ is the corresponding eigenvalue, a scalar.\n",
    "\n",
    "__Eigenvectors are any possible non-zero solutions for__ $\\mathbf{\\vec{v_{i}}}$ __the equation above__. What does this actually mean? Well, this is one of the instances where it makes sense to visualize a matrix as a linear transformation. As we saw earlier in our animation, we can apply a linear transformation to any vector with the appropriate number of components, and for a few vectors, the linear transformation only scales them by a given scalar value (their eigenvalue). These are the eigenvectors of that matrix.\n",
    "\n",
    "So how do we calculate the eigenvalues and eigenvectors of a matrix? Some of you have probably already guessed that a vector with all zero components is always an eigenvector. This is known as a __trivial solution__, and since it applies to all matrices regardless of the corresponding eigenvalue, it doesn't tell us about any interesting properties of individual matrices. We are, therefore, interested in the __non-trivial solution(s)__ for the eigenvectors of a matrix. We can rewrite the general expression in the form below, which allows us to do the following:\n",
    "\n",
    "$$A\\vec{\\mathbf{v_{i}}} = \\lambda_{i}I\\vec{\\mathbf{v_{i}}}$$\n",
    "$$(A - \\lambda_{i}I)\\vec{\\mathbf{v_{i}}} = 0 $$\n",
    "\n",
    "Some of you may be thinking: \"We can multiply both sides of the equation by $(A - \\lambda_{i}I)^{-1}$, but this results in the trivial solution we had intuitively found before. So what do we do now?\". Well, for $\\vec{\\mathbf{v_{i}}}$ to be a non-zero vector, $(A - \\lambda_{i}I)$ must be singular, meaning it CANNOT have an inverse. This is why there are so few \"exceptions\" that lead to the few eigenvectors of the matrix out of the infinitely many other vectors in the same vector space. Going one step further, we can use the determinant condition we came across before to solve for the eigenvalues of the matrix:\n",
    "\n",
    "$$det(A - \\lambda_{i}I) = 0$$\n",
    "\n",
    "If we keep $\\lambda_{i}$ as a variable, the expression above gives us a polynomial equation, known as the __characteristic polynomial__ of the matrix, and solving it will give you the eigenvalues of the matrix! To find their corresponding eigenvectors, we plug each eigenvalue into the original expression and solve for the vector. A simple, 2x2 example is shown below:\n",
    "\n",
    "$$A = \\begin{bmatrix} 1 & 2 \\\\ 2 & 1 \\end{bmatrix} \\implies \n",
    "A - \\lambda_{i}I = \\begin{bmatrix} 1-\\lambda_{i} & 2 \\\\ 2 & 1-\\lambda_{i} \\end{bmatrix}$$\n",
    "\n",
    "$$det(A - \\lambda_{i}I) = 1 - 2 \\lambda_{i} + \\lambda_{i}^{2} - 4 = \\lambda_{i}^{2} - 2 \\lambda_{i} - 3 = 0$$\n",
    "$$ \\lambda_{1} = -1, \\lambda_{2} = 3$$\n",
    "\n",
    "Now we can find the respective eigenvectors of each eigenvalue. We will start with the eigenvector of $\\lambda_{1}$:\n",
    "$$\\begin{bmatrix} 1 & 2 \\\\ 2 & 1 \\end{bmatrix} \\begin{bmatrix}v_{x} \\\\ v_{y}\\end{bmatrix} = \n",
    "\\begin{bmatrix}-v_{x} \\\\ -v_{y}\\end{bmatrix}$$\n",
    "\n",
    "$$ v_{x} + 2v_{y} = -v_{x}$$\n",
    "$$ 2v_{x} + v_{y} = -v_{y}$$\n",
    "This means that the corresponding eigenvectors of $\\lambda_{1}$ is any vector such that $v_{x} = -v_{y}$. We can generalize these to obtain our eigenvectors (which are all scalar multiples of each other):\n",
    "\n",
    "$$\\mathbf{\\vec{v_{1}}} = t\\begin{bmatrix} 1 \\\\ -1 \\end{bmatrix}, \\text{where } t \\in \\Re$$\n",
    "\n",
    "The same procedure can be applied for the second eigenvalue, resulting in the following eigenvector:\n",
    "$$\\begin{bmatrix} 1 & 2 \\\\ 2 & 1 \\end{bmatrix} \\begin{bmatrix}v_{x} \\\\ v_{y}\\end{bmatrix} = \n",
    "\\begin{bmatrix}3v_{x} \\\\ 3v_{y}\\end{bmatrix}$$\n",
    "\n",
    "$$ v_{x} + 2v_{y} = 3v_{x}$$\n",
    "$$ 2v_{x} + v_{y} = 3v_{y}$$\n",
    "$$v_{x}=v{y}$$\n",
    "$$\\mathbf{\\vec{v_{1}}} = \\alpha\\begin{bmatrix} 1 \\\\ 1 \\end{bmatrix}, \\text{where } \\alpha \\in \\Re$$\n",
    "\n",
    "And that's it! This procedure can be applied to a square matrix of any size. However, as you can see from the 2x2 case, even a simple example can be time-consuming. For larger matrices, it is highly impractical to manually compute the eigenvalues and eigenvectors of the matrix, so, as usual, we write programs to do the hard stuff for us. Below we show how to use NumPy to calculate the eigenvalues/eigenvectors of any square matrix. We will use _np.linalg.eig(  ),_ which returns the only possible eigenvector of unit length. In reality, any scalar multiple of this vector is also a valid solution!"
   ]
  },
  {
   "cell_type": "code",
   "execution_count": 21,
   "metadata": {},
   "outputs": [
    {
     "name": "stdout",
     "output_type": "stream",
     "text": [
      "Eigenvalues: [ 3. -1.]\n",
      "Eigenvectors: [[ 0.70710678 -0.70710678]\n",
      " [ 0.70710678  0.70710678]]\n",
      "\n",
      "\n"
     ]
    }
   ],
   "source": [
    "# 2x2 matrix\n",
    "A = np.array([[1,2],[2,1]])\n",
    "w,v = np.linalg.eig(A)\n",
    "print(\"Eigenvalues:\",w)\n",
    "print(\"Eigenvectors:\",v)"
   ]
  },
  {
   "cell_type": "markdown",
   "metadata": {},
   "source": [
    "# Congratulations!"
   ]
  },
  {
   "cell_type": "code",
   "execution_count": 6,
   "metadata": {},
   "outputs": [
    {
     "output_type": "stream",
     "name": "stdout",
     "text": [
      "[[1 2]\n [3 4]]\n-2.0000000000000004\n"
     ]
    }
   ],
   "source": [
    "# Write a NumPy program to compute the multiplication of two given matrices \n",
    "import numpy as np\n",
    "x = [[1,2],[3,4]]\n",
    "y = [[2,5],[1,6]]\n",
    "x_np = np.array(x)\n",
    "y_np = np.array(y)\n",
    "print(x_np)\n",
    "print(np.linalg.det(x_np))\n"
   ]
  },
  {
   "cell_type": "code",
   "execution_count": 7,
   "metadata": {},
   "outputs": [
    {
     "output_type": "stream",
     "name": "stdout",
     "text": [
      "The dot product is [[ 4 17]\n [10 39]]\n"
     ]
    }
   ],
   "source": [
    "print(\"The dot product is\", np.dot(x_np,y_np))                     #np.dot(), np.cross(), np.mulltiply()"
   ]
  },
  {
   "cell_type": "code",
   "execution_count": 11,
   "metadata": {},
   "outputs": [
    {
     "output_type": "stream",
     "name": "stdout",
     "text": [
      "The inverse is [[-2.   1. ]\n [ 1.5 -0.5]]\n"
     ]
    }
   ],
   "source": [
    "print(\"The inverse is\", np.linalg.inv(x_np))"
   ]
  },
  {
   "cell_type": "code",
   "execution_count": 31,
   "metadata": {},
   "outputs": [
    {
     "output_type": "stream",
     "name": "stdout",
     "text": [
      "-3.14\n-3.04\n-2.94\n-2.84\n-2.7399999999999998\n-2.6399999999999997\n-2.5399999999999996\n-2.4399999999999995\n-2.3399999999999994\n-2.2399999999999993\n-2.1399999999999992\n-2.039999999999999\n-1.939999999999999\n-1.839999999999999\n-1.7399999999999989\n-1.6399999999999988\n-1.5399999999999987\n-1.4399999999999986\n-1.3399999999999985\n-1.2399999999999984\n-1.1399999999999983\n-1.0399999999999983\n-0.9399999999999982\n-0.8399999999999981\n-0.739999999999998\n-0.6399999999999979\n-0.5399999999999978\n-0.4399999999999977\n-0.33999999999999764\n-0.23999999999999755\n-0.13999999999999746\n-0.03999999999999737\n0.06000000000000272\n0.1600000000000028\n0.2600000000000029\n0.360000000000003\n0.4600000000000031\n0.5600000000000032\n0.6600000000000033\n0.7600000000000033\n0.8600000000000034\n0.9600000000000031\n1.0600000000000036\n1.1600000000000041\n1.2600000000000038\n1.3600000000000034\n1.460000000000004\n1.5600000000000045\n1.6600000000000041\n1.7600000000000038\n1.8600000000000043\n1.9600000000000048\n2.0600000000000045\n2.160000000000004\n2.2600000000000047\n2.360000000000005\n2.460000000000005\n2.5600000000000045\n2.660000000000005\n2.7600000000000056\n2.860000000000005\n2.960000000000005\n3.0600000000000054\n[-3.14 -3.04 -2.94 -2.84 -2.74 -2.64 -2.54 -2.44 -2.34 -2.24 -2.14 -2.04\n -1.94 -1.84 -1.74 -1.64 -1.54 -1.44 -1.34 -1.24 -1.14 -1.04 -0.94 -0.84\n -0.74 -0.64 -0.54 -0.44 -0.34 -0.24 -0.14 -0.04  0.06  0.16  0.26  0.36\n  0.46  0.56  0.66  0.76  0.86  0.96  1.06  1.16  1.26  1.36  1.46  1.56\n  1.66  1.76  1.86  1.96  2.06  2.16  2.26  2.36  2.46  2.56  2.66  2.76\n  2.86  2.96  3.06]\n[-3.14       -2.44222222 -1.74444444 -1.04666667 -0.34888889  0.34888889\n  1.04666667  1.74444444  2.44222222  3.14      ]\n"
     ]
    }
   ],
   "source": [
    "# Generate a vector containing 10 values between -3.14 and 3.14 \n",
    "for i in np.arange(-3.14,3.14,0.1):\n",
    "    print(i)\n",
    "x = np.arange(-3.14,3.14,0.1)\n",
    "print(x)\n",
    "# use np.linspace\n",
    "x = np.linspace(-3.14,3.14,10)\n",
    "print(x)\n",
    "x = np.random.uniform(low = -3.14, high = 3.14, size = 10)\n",
    "#use np.random.uniform"
   ]
  },
  {
   "cell_type": "code",
   "execution_count": 21,
   "metadata": {},
   "outputs": [
    {
     "output_type": "stream",
     "name": "stdout",
     "text": [
      "[[0, 0, 0], [0, 0, 0], 16]\n"
     ]
    }
   ],
   "source": [
    "x = [[0,0,0],[0,0,0],[0,0,0]]\n",
    "x[2] = 16\n",
    "print(x)"
   ]
  },
  {
   "cell_type": "code",
   "execution_count": 23,
   "metadata": {},
   "outputs": [
    {
     "output_type": "stream",
     "name": "stdout",
     "text": [
      "[[1 2]\n [3 4]]\n[[2 5]\n [1 6]]\n[[ 2 10]\n [ 3 24]]\n"
     ]
    }
   ],
   "source": [
    "print(x_np)\n",
    "print(y_np)\n",
    "print(np.multiply(x_np,y_np))"
   ]
  },
  {
   "cell_type": "code",
   "execution_count": 24,
   "metadata": {},
   "outputs": [
    {
     "output_type": "execute_result",
     "data": {
      "text/plain": [
       "5"
      ]
     },
     "metadata": {},
     "execution_count": 24
    }
   ],
   "source": [
    "np.trace(x_np)"
   ]
  },
  {
   "cell_type": "code",
   "execution_count": 26,
   "metadata": {},
   "outputs": [
    {
     "output_type": "stream",
     "name": "stdout",
     "text": [
      "[[1 2]\n [3 4]]\n"
     ]
    },
    {
     "output_type": "execute_result",
     "data": {
      "text/plain": [
       "array([[1, 3],\n",
       "       [2, 4]])"
      ]
     },
     "metadata": {},
     "execution_count": 26
    }
   ],
   "source": [
    "print(x_np)\n",
    "np.transpose(x_np)                  # rows become column"
   ]
  },
  {
   "cell_type": "code",
   "execution_count": 33,
   "metadata": {},
   "outputs": [
    {
     "output_type": "stream",
     "name": "stdout",
     "text": [
      "[[1 2]\n [3 4]]\n[[2 5]\n [1 6]]\n"
     ]
    },
    {
     "output_type": "execute_result",
     "data": {
      "text/plain": [
       "array([ 1, 14])"
      ]
     },
     "metadata": {},
     "execution_count": 33
    }
   ],
   "source": [
    "# cross product\n",
    "print(x_np)\n",
    "print(y_np)\n",
    "np.cross(x_np,y_np)"
   ]
  },
  {
   "cell_type": "code",
   "execution_count": 3,
   "metadata": {},
   "outputs": [
    {
     "output_type": "stream",
     "name": "stdout",
     "text": [
      "[[1, 2, 3, 4, 5], [6, 7, 8, 9, 1], [2, 3, 4, 5, 6], [7, 8, 9, 0, 1]]\n\n[[1 2 3 4 5]\n [6 7 8 9 1]\n [2 3 4 5 6]\n [7 8 9 0 1]]\n"
     ]
    }
   ],
   "source": [
    "# we have seen above how to convert a list in to np array\n",
    "# Now we will convert a 2d list into matrix.abs\n",
    "import numpy as np\n",
    "A = [[1,2,3,4,5],[6,7,8,9,1],[2,3,4,5,6],[7,8,9,0,1]]\n",
    "print(A)\n",
    "A_np = np.mat(A)\n",
    "print(end='\\n')\n",
    "print(A_np)"
   ]
  },
  {
   "cell_type": "code",
   "execution_count": 5,
   "metadata": {},
   "outputs": [
    {
     "output_type": "stream",
     "name": "stdout",
     "text": [
      "[[1, 2, 3, 4, 5], [6, 7, 8, 9, 1], 7, [7, 8, 9, 0, 1]]\n\n[[1 2 3 4 5]\n [6 7 8 9 1]\n [7 7 7 7 7]\n [7 8 9 0 1]]\n"
     ]
    }
   ],
   "source": [
    "# Manipulating the matrix\n",
    "A_np[2] = 7         # 2 is 3rd index\n",
    "A[2] = 7\n",
    "print(A)\n",
    "print(end='\\n')\n",
    "print(A_np)"
   ]
  },
  {
   "cell_type": "code",
   "execution_count": 7,
   "metadata": {},
   "outputs": [
    {
     "output_type": "stream",
     "name": "stdout",
     "text": [
      "[[1, 2, 3, 4, 5], [6, 7, 8, 9, 1], 7, [7, 8, 9, 0, 1]]\n\n[[1 2 3 5 5]\n [6 7 8 5 1]\n [7 7 7 5 7]\n [7 8 9 5 1]]\n"
     ]
    }
   ],
   "source": [
    "A_np[:,3] = 5\n",
    "#A[:,3] = 5                 # gives error\n",
    "print(A)\n",
    "print(end = '\\n')\n",
    "print(A_np)"
   ]
  },
  {
   "cell_type": "code",
   "execution_count": 8,
   "metadata": {},
   "outputs": [
    {
     "output_type": "execute_result",
     "data": {
      "text/plain": [
       "matrix([[1, 6, 7, 7],\n",
       "        [2, 7, 7, 8],\n",
       "        [3, 8, 7, 9],\n",
       "        [5, 5, 5, 5],\n",
       "        [5, 1, 7, 1]])"
      ]
     },
     "metadata": {},
     "execution_count": 8
    }
   ],
   "source": [
    "np.transpose(A_np)"
   ]
  },
  {
   "cell_type": "code",
   "execution_count": 9,
   "metadata": {},
   "outputs": [
    {
     "output_type": "stream",
     "name": "stdout",
     "text": [
      "[[1 2 3]\n [4 5 6]\n [7 8 9]]\n"
     ]
    },
    {
     "output_type": "execute_result",
     "data": {
      "text/plain": [
       "15"
      ]
     },
     "metadata": {},
     "execution_count": 9
    }
   ],
   "source": [
    "B_np  = np.mat([[1,2,3],[4,5,6],[7,8,9]])\n",
    "print(B_np)\n",
    "np.trace(B_np)       # sum of diagnol elements"
   ]
  },
  {
   "cell_type": "code",
   "execution_count": 12,
   "metadata": {},
   "outputs": [
    {
     "output_type": "execute_result",
     "data": {
      "text/plain": [
       "array([1, 2, 3, 4, 5, 2])"
      ]
     },
     "metadata": {},
     "execution_count": 12
    }
   ],
   "source": [
    "# Appending elements to NP Array of 1 Dimension\n",
    "c = np.array([1,2,3,4,5])\n",
    "np.append(c,2)"
   ]
  },
  {
   "cell_type": "code",
   "execution_count": 31,
   "metadata": {},
   "outputs": [
    {
     "output_type": "stream",
     "name": "stdout",
     "text": [
      "[[1 2]\n [3 4]]\n[[5 2]\n [3 4]]\n"
     ]
    }
   ],
   "source": [
    "D = np.array([[1,2],[3,4]])\n",
    "print(D)\n",
    "#np.append([[1,2],[3,4]] , [[5,6]] , axis=0)\n",
    "#np.append(D , [[5,6]]  , axis=0)\n",
    "D[0][0] = 5\n",
    "#D[2][0] = 5\n",
    "#D[2][1] = 6\n",
    "print(D)"
   ]
  },
  {
   "cell_type": "code",
   "execution_count": null,
   "metadata": {},
   "outputs": [],
   "source": []
  }
 ],
 "metadata": {
  "kernelspec": {
   "display_name": "Python 3",
   "language": "python",
   "name": "python3"
  },
  "language_info": {
   "codemirror_mode": {
    "name": "ipython",
    "version": 3
   },
   "file_extension": ".py",
   "mimetype": "text/x-python",
   "name": "python",
   "nbconvert_exporter": "python",
   "pygments_lexer": "ipython3",
   "version": "3.8.3-final"
  }
 },
 "nbformat": 4,
 "nbformat_minor": 4
}