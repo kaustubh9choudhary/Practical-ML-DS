{
 "cells": [
  {
   "cell_type": "markdown",
   "metadata": {},
   "source": [
    "# Calculus\n",
    "\n",
    "### Learning Objectives:\n",
    "- [Chain Rule](#Chain-Rule)\n",
    "- [Partial Differentiation](#Partial-Differentiation)"
   ]
  },
  {
   "cell_type": "code",
   "execution_count": 2,
   "metadata": {},
   "outputs": [],
   "source": [
    "import numpy as np\n",
    "import plotly.graph_objects as go\n",
    "from plotly.subplots import make_subplots"
   ]
  },
  {
   "cell_type": "code",
   "execution_count": 3,
   "metadata": {},
   "outputs": [
    {
     "output_type": "error",
     "ename": "SyntaxError",
     "evalue": "invalid syntax (<ipython-input-3-e7d313c01e4f>, line 9)",
     "traceback": [
      "\u001b[1;36m  File \u001b[1;32m\"<ipython-input-3-e7d313c01e4f>\"\u001b[1;36m, line \u001b[1;32m9\u001b[0m\n\u001b[1;33m    current_dy = ##\u001b[0m\n\u001b[1;37m                 ^\u001b[0m\n\u001b[1;31mSyntaxError\u001b[0m\u001b[1;31m:\u001b[0m invalid syntax\n"
     ]
    }
   ],
   "source": [
    "# Calculus warm-up: testing your knowledge!\n",
    "\n",
    "def x_squared(x_vals):\n",
    "    return x_vals**2\n",
    "\n",
    "def deriv(input_func, x_vals, dx=0.0001):\n",
    "    dy = np.array([])\n",
    "    for x_val in x_vals:\n",
    "        current_dy = ##\n",
    "        dy = ##\n",
    "    return dy\n",
    "\n",
    "\n",
    "# Test Code\n",
    "x_vals = np.linspace(-5, 5, 1000)\n",
    "y_vals = ##\n",
    "dy_vals = deriv(x_squared, x_vals)\n",
    "\n",
    "fig = go.Figure()\n",
    "fig.add_trace(go.Scatter(x=x_vals, y=y_vals, name=\"Original Function\"))\n",
    "fig.add_trace(go.Scatter(x=x_vals, y=dy_vals, name=\"Derivative\"))"
   ]
  },
  {
   "cell_type": "markdown",
   "metadata": {},
   "source": [
    "# Chain Rule\n",
    "\n",
    "Sometimes, however, the functions we encounter are not as clean as the ones shown above. Often, they are what are known as __composite functions__, functions composed of sub-functions, such as the example below:\n",
    "\n",
    "$$f(x) = sin(x)^{2}$$\n",
    "\n",
    "We have a rule for calculating the derivative of $x^{2}$ and the derivative of $sin(x)$, but how do we go about this example? This is where the __chain rule__ comes in. When we don't know how a variable changes with respect to another, we can use the chain rule to determine this quantity by seeing how both quantities vary with some intermediary quantity.\n",
    "\n",
    "Let us rewrite the equation, by allowing $u = sin(x)$, our intermediary quantity, getting the following:\n",
    "\n",
    "$$f(u) = y = u^{2}$$\n",
    "\n",
    "Let us consider an average slope calculation for now. We want to compute the average slope of $y$ with respect to $x$ $(\\frac{\\Delta y}{\\Delta x})$. We can re-write it in the following way:\n",
    "\n",
    "$$\\frac{\\Delta y}{\\Delta x} = \\frac{\\Delta y}{\\Delta x} \\times 1 =\\frac{\\Delta y}{\\Delta x} \\times \\frac{\\Delta u}{\\Delta u} = \\frac{\\Delta y}{\\Delta u} \\times \\frac{\\Delta u}{\\Delta x}$$\n",
    "\n",
    "Which, when we make the changes $\\Delta y, \\Delta x \\text{ and } \\Delta u$ very, very small, we get:\n",
    "\n",
    "$$\\frac{dy}{dx} = \\frac{dy}{du} \\times \\frac{du}{dx}$$\n",
    "\n",
    "So in the case of our example, we get the following:\n",
    "\n",
    "\n",
    "$$(1) \\; \\frac{dy}{du} = \\frac{d(u^{2})}{du} = 2u = 2sin(x)$$\n",
    "\n",
    "$$(2) \\; \\frac{du}{dx} = \\frac{d(sin(x))}{dx} = cos(x)$$\n",
    "\n",
    "$$(3) \\; \\frac{dy}{dx} = \\frac{dy}{du} \\times \\frac{du}{dx} = 2sin(x)cos(x)$$\n",
    "\n",
    "What does this mean? We are using the variable $\\mathbf{u}$ as an __intermediary function__ to determine the rate of change of $y$ with respect to $x$. If we know the rate of change of $y$ with respect to $u$ $(\\frac{dy}{du})$, and we know exactly how $u$ changes with respect to $x$ $(\\frac{du}{dx})$, we can use both rates of change to calculate the rate of change of $y$ with respect to $x$. In general, the chain rule for one intermediary variable is given as follows:\n",
    "\n",
    "$$f'(x) = f'(g(x))g'(x)$$\n",
    "\n",
    "$$\\text{or}$$\n",
    "\n",
    "$$\\frac{dy}{dx} = \\frac{dy}{du}\\frac{du}{dx}$$\n",
    "\n",
    "This is, however, not limited to only one intermediary variable, $u$, we can have multiple intermediary variables. However, we can simply apply the same rule as above multiple times. A common approach, informally known as __peeling the onion__, is the to differentiate the outer intermediary functions first, and progressively move inwards. Below we show an example with two intermediary variables:\n",
    "\n",
    "$$y = cos(x^{2})^{4}$$\n",
    "\n",
    "Which we can decompose as follows:\n",
    "$$ y = u^{4}, \\;\\; u = cos(v), \\;\\; v = x^{2} $$\n",
    "\n",
    "We find the respective derivatives:\n",
    "$$ \\frac{dy}{du} = 4u^{3}, \\;\\; \\frac{du}{dv} = sin(v), \\;\\; \\frac{dv}{dx} = 2x $$\n",
    "\n",
    "Then we can determine our desired derivative:\n",
    "$$\\frac{dy}{dx} = \\frac{dy}{du}\\frac{du}{dv}\\frac{dv}{dx} \\\\ = 4u^{3}sin(v)2x  \\\\ = 4cos(v)^{3}sin(v)2x \\\\ = \n",
    "8cos(x^{2})^{3}sin(x^{2})x    $$\n",
    "\n",
    "### Chain-rule real-life analogy: COVID-19\n",
    "\n",
    "Let us consider the following scenario. You are a data scientist trying to use the data you collected during the crisis to try and model the growth of COVID-19. After using certain statistical methods, you were able to determine that, without self-isolation measures or protective face masks, you can model the growth of COVID-19 deaths in early stages with the following function:\n",
    "\n",
    "$$D(u) = e^{u} = e^{\\sqrt{t}}$$\n",
    "$$u(t) = \\sqrt{t}$$\n",
    "\n",
    "Where $D(u)$ is the number of COVID-19 deaths as a function of time, $t$ is time measured in days and $u(t)$ is an intermediary function.\n",
    "\n",
    "This means that, according to our model, COVID-19 deaths grow exponentially with respect to the square root of time. But that is not sufficient analysis to base our policies on, so we decide we want to calculate __the rate of change of COVID-19 deaths as a function of time__, or in mathematical terms, $\\frac{dD(t)}{dt}$. So how do we go about this? Let us first plot in two separate plots our function $D$ in terms of our intermediary function, $u$, alongside the function $u$ with respect to time, $t$."
   ]
  },
  {
   "cell_type": "code",
   "execution_count": 4,
   "metadata": {},
   "outputs": [],
   "source": [
    "# Determining our variables/functions \n",
    "t = np.linspace(1, 20, 1000)\n",
    "u = np.sqrt(t)\n",
    "D = np.exp(u)"
   ]
  },
  {
   "cell_type": "code",
   "execution_count": null,
   "metadata": {},
   "outputs": [],
   "source": [
    "# Visualization Code\n",
    "\n",
    "fig = make_subplots(rows=1, cols=2)\n",
    "\n",
    "fig.update_layout(title=\"COVID Deaths vs Time & Intermediary Function\")\n",
    "fig.update_yaxes(title_text=\"D(u)\", row=1, col=1)\n",
    "fig.update_xaxes(title_text=\"u\", row=1, col=1)\n",
    "fig.update_yaxes(title_text=\"u(t)\", row=1, col=2)\n",
    "fig.update_xaxes(title_text=\"t\", row=1, col=2)\n",
    "\n",
    "fig.add_trace(go.Scatter(x=u, y=D, marker_color=\"orange\", name=\"$D(u)=e^{u}$\"), row=1, col=1)\n",
    "fig.add_trace(go.Scatter(x=t, y=u, marker_color=\"black\", name=\"$u(t)=\\sqrt{x}$\"), row=1, col=2)\n",
    "\n",
    "fig.update_layout(showlegend=True)\n",
    "fig.show()"
   ]
  },
  {
   "cell_type": "markdown",
   "metadata": {},
   "source": [
    "Now, all we need to do is simply calculate the derivative of each of the two graphs above, then according to the chain rule, we can get the rate of change of COVID-19 deaths with respect to time by their product. We can differentiate them given our little table above:\n",
    "\n",
    "$$\\frac{dD}{du} = e^{u}$$\n",
    "$$\\frac{du}{dt} = \\frac{1}{2\\sqrt{t}}$$\n",
    "\n",
    "$$\\frac{dD}{dt} = \\frac{dD}{du} \\times \\frac{du}{dt} = \\frac{e^{u}}{2\\sqrt{t}} = \\frac{e^{\\sqrt{t}}}{2\\sqrt{t}} $$\n",
    "\n",
    "And there we have it! With this information, you are now satisfied with your model and can help Boris & co. to help tackle this crisis.\n",
    "\n",
    "We have now shown you a nice derivation, a real-life example, but some of you may still be thinking: \"Does this actually work? How can I be sure of it?\", and I don't blame you, since it is quite an abstract concept. So let us bring back our _deriv(  )_ function that we created earlier. Since that Python function approximates the derivative of any function without the need of these rules and identities, we can use it to test out whether our concept works! Let us work through the example below together and prove to ourselves that our understanding is solid."
   ]
  },
  {
   "cell_type": "code",
   "execution_count": null,
   "metadata": {},
   "outputs": [],
   "source": [
    "# CODING CHALLENGE\n",
    "\n",
    "def covid_deaths(t):\n",
    "    return ##\n",
    "\n",
    "t = np.linspace(1, 20, 1000)\n",
    "dD_chain_rule = ## (applying the mathematical result we got programatically)\n",
    "dD_approx = ## (using deriv( ) function)"
   ]
  },
  {
   "cell_type": "code",
   "execution_count": null,
   "metadata": {},
   "outputs": [],
   "source": [
    "# Visualization Code\n",
    "\n",
    "fig = go.Figure()\n",
    "\n",
    "fig.update_layout(title=\"COVID-19 Deaths (Chain Rule vs. Approximation)\")\n",
    "fig.update_yaxes(title_text=\"D(t)\")\n",
    "fig.update_xaxes(title_text=\"t\")\n",
    "\n",
    "fig.add_trace(go.Scatter(x=t, y=dD_chain_rule, marker_color=\"orange\", name=\"Chain Rule\"))\n",
    "fig.add_trace(go.Scatter(x=t, y=dD_approx, marker_color=\"black\", name=\"Approximation\", line=dict(dash=\"dash\")))\n",
    "\n",
    "fig.update_layout(showlegend=True)\n",
    "fig.show()"
   ]
  },
  {
   "cell_type": "markdown",
   "metadata": {},
   "source": [
    "# Partial Differentiation\n",
    "\n",
    "So far we have only considered derivatives of functions with one variable. But we all know that this is not realistic: real-life quantities always depend on more than one variable. Gravitational pull depends on your weight _and_ how far from the Earth you are; how many episodes of Netflix you watch in one day depends on your availability, quality of shows, boredom; and even the motion of flying insects depends on much more than just 'orientation'. This leads us to the realm of __multivariable calculus__, or in more informal terms, how one quantity changes with respect to two or more other quantities.\n",
    "\n",
    "So how do we determine how one variable changes with respect to another when it depends on multiple other variables? If we make all other variables constant except for one, we can determine that particular rate of change. This type of derivative is known as a __partial derivative__. Consider the 2-D function below:\n",
    "\n",
    "$$f(x,y) = 2xy - x^{2}$$"
   ]
  },
  {
   "cell_type": "code",
   "execution_count": null,
   "metadata": {},
   "outputs": [],
   "source": [
    "# Visualization Code\n",
    "\n",
    "def our_func(x, y):\n",
    "    return 2*x*y - (x**2)\n",
    "\n",
    "def surface_maker(x_vals, y_vals, func):\n",
    "    rows = len(y_vals)\n",
    "    cols = len(x_vals)\n",
    "    z = np.zeros((rows, cols))\n",
    "    for i in range(rows):\n",
    "        for j in range(cols):\n",
    "            z[i,j] = func(x_vals[j], y_vals[i])\n",
    "    return z\n",
    "            \n",
    "x, y = np.linspace(0, 1, 100), np.linspace(0, 1, 100)\n",
    "z = surface_maker(x, y, our_func)\n",
    "fig = go.Figure(data=[go.Surface(z=z, x=x, y=y, surfacecolor=np.ones(len(x)), showscale=False)])\n",
    "fig.update_layout(title='Multivariable Function', autosize=False,\n",
    "                  width=1000, height=500,\n",
    "                  margin=dict(l=65, r=50, b=65, t=90))\n",
    "fig.show()"
   ]
  },
  {
   "cell_type": "markdown",
   "metadata": {},
   "source": [
    "If we consider the function at $f(x, y=a)$, for some constant $a$:\n",
    "$$f(x, y=a) = f(x) = 2ax - x^{2}$$\n",
    "The derivative with respect to $x$ becomes:\n",
    "$$\\frac{df(x)}{dx} = 2a - 2x$$\n",
    "The same applies for $f(x, y=b)$, for some constant $b$:\n",
    "$$\\frac{df(x)}{dx} = 2b - 2x \\implies \\frac{df(x)}{dx} = 2b - 2x$$\n",
    "\n",
    "We can generalize this to any point along our surface:\n",
    "\n",
    "$$\\frac{\\partial f(x, y)}{\\partial x} = 2y - 2x$$\n",
    "\n",
    "For any value of $y$, where the '$\\partial$' symbol is known as the __curly d__, and represents __partial differentiation__. The same logic can be applied to the partial derivative of $x$. Let us first consider the function at $f(x=a, y)$:\n",
    "$$f(x=a, y) = f(y) = 2ay - a^{2}$$\n",
    "The derivative with respect to $y$ becomes:\n",
    "$$\\frac{df(y)}{dy} = 2a$$\n",
    "Which we can generalize for any given value of $x$:\n",
    "$$\\frac{\\partial f(x,y)}{\\partial y} = 2x$$\n",
    "\n",
    "\n"
   ]
  },
  {
   "cell_type": "markdown",
   "metadata": {},
   "source": [
    "So what do partial derivatives mean? Before for one variable, we saw that a derivative told us the gradient/slope at every given point, or the steepness of the function. In the case of partial derivatives, __we are determining the steepness in the direction of the variable we differentiate the function by.__ Consider the surface plot below:"
   ]
  },
  {
   "cell_type": "code",
   "execution_count": null,
   "metadata": {},
   "outputs": [],
   "source": [
    "# Visualization Code\n",
    "\n",
    "x, y = np.linspace(0, 1, 100), np.linspace(0, 1, 100)\n",
    "z = surface_maker(x, y, our_func)\n",
    "fig = go.Figure(data=[go.Surface(z=z, x=x, y=y, surfacecolor=np.ones(len(x)), showscale=False)])\n",
    "# Adding traces!\n",
    "fig.add_trace(go.Scatter3d(z=[0.3, 0.2375], x=[0.5, 0.75], y=[0.5, 0.5], marker_color=\"orange\", name=\"x-steepness\"))\n",
    "fig.add_trace(go.Scatter3d(z=[0.3, 0.55], x=[0.5, 0.5], y=[0.5, 0.75], marker_color=\"orange\", line=dict(dash=\"dash\"), name=\"y-steepness\"))\n",
    "fig.update_layout(title='Multivariable Function', autosize=False,\n",
    "                  width=1000, height=500,\n",
    "                  margin=dict(l=65, r=50, b=65, t=90))\n",
    "fig.show()"
   ]
  },
  {
   "cell_type": "markdown",
   "metadata": {},
   "source": [
    "In this case, the dashed orange trace represents the direction of $\\frac{\\partial f}{\\partial y}$ and the solid orange trace represents the direction of $\\frac{\\partial f}{\\partial x}$. Now that we understand the mechanisms behind partial differentiation, let us now explore the chain rule in multivariable calculus!\n",
    "\n",
    "### Multivariable Chain Rule\n",
    "\n",
    "Now that we have covered the meaning of calculus, the chain rule and partial differentiation, we will cover our last topic: __multivariable chain rule__. As the name implies, it is an extension of the chain rule that applies to functions dependent on multiple variables. In this case, __we can have multiple intermediary variables.__ Consider the example below:\n",
    "\n",
    "$$f(x(t), y(t)) = x + y^{2}$$\n",
    "\n",
    "$$x(t) = sin(t), \\;\\;\\; y(t) = cos(t)$$\n",
    "\n",
    "We can compute $\\frac{df}{dt}$ by substituting the functions for $x(t)$ and $y(t)$, which results in:\n",
    "\n",
    "$$f(x(t), y(t)) = sin(t) + cos^{2}(t) \\implies \\frac{df(x(t), y(t))}{dt} = cos(t) - 2sin(t)cos(t)$$\n",
    "\n",
    "Something worth noting, however, is that the following formula returns the same result:\n",
    "$$\\frac{df(x(t), y(t))}{dt} = \\frac{\\partial f}{\\partial x}\\frac{dx}{dt} + \\frac{\\partial f}{\\partial y}\\frac{dy}{dt} = 1\\times cos(t) + 2y\\times(-sin(t)) = cos(t) - 2sin(t)cos(t)$$ \n",
    "\n",
    "Why does this identity work? Well, if we do not know how the rate of change of $f$ with respect to $t$, and we have two intermediary variables dependent on $t$, we need to determine how changing $t$ affects both those intermediary variables. This is more clearly visualized in the diagram below:\n",
    "\n",
    "<img src=\"images/multi_var_change.png\" alt =\"calc_tree\"\n",
    "     width=\"500px\" height=\"500px\"/>\n",
    "\n",
    "This same logic can be applied to functions with any number of intermediary variables, that themselves can have any number of variables! Consider, for instance:\n",
    "\n",
    "$$z = f(x, y), \\;\\;\\; x = g(s, t), \\;\\;\\; y = h(s, t)$$\n",
    "\n",
    "We can compute the derivatives $\\frac{dz}{dt}$ and $\\frac{dz}{ds}$:\n",
    "\n",
    "$$\\frac{dz}{dt} = \\frac{\\partial z}{\\partial x}\\frac{dx}{dt} + \\frac{\\partial z}{\\partial y}\\frac{dy}{dt}$$\n",
    "\n",
    "$$\\frac{dz}{ds} = \\frac{\\partial z}{\\partial x}\\frac{dx}{ds} + \\frac{\\partial z}{\\partial y}\\frac{dy}{ds}$$\n",
    "\n",
    "However, as you can see, the more intermediary variables, as well as layers of intermediary variables we have, the harder to visualize it becomes. Therefore we can use a __tree diagram__ to represent the network of variables, as shown below for our example:\n",
    "\n",
    "<img src=\"images/calculus_tree.png\" alt =\"calc_tree\"\n",
    "     width=\"500px\" height=\"500px\"/>"
   ]
  },
  {
   "cell_type": "code",
   "execution_count": null,
   "metadata": {},
   "outputs": [],
   "source": []
  }
 ],
 "metadata": {
  "kernelspec": {
   "display_name": "Python 3",
   "language": "python",
   "name": "python3"
  },
  "language_info": {
   "codemirror_mode": {
    "name": "ipython",
    "version": 3
   },
   "file_extension": ".py",
   "mimetype": "text/x-python",
   "name": "python",
   "nbconvert_exporter": "python",
   "pygments_lexer": "ipython3",
   "version": "3.8.3-final"
  }
 },
 "nbformat": 4,
 "nbformat_minor": 4
}